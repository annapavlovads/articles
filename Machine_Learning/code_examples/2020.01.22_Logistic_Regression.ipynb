{
  "nbformat": 4,
  "nbformat_minor": 0,
  "metadata": {
    "colab": {
      "name": "Logistic Regression.ipynb",
      "provenance": [],
      "collapsed_sections": [],
      "toc_visible": true
    },
    "kernelspec": {
      "name": "python3",
      "display_name": "Python 3"
    },
    "accelerator": "GPU"
  },
  "cells": [
    {
      "cell_type": "markdown",
      "metadata": {
        "id": "ODQEiw9TnjIY",
        "colab_type": "text"
      },
      "source": [
        "# Logistic Regression in Python\n",
        "[Original article](https://realpython.com/logistic-regression-python/) by Mirko Stojiljkovic on Real Python website.\n",
        "\n",
        "Keep in mind that logistic regression is essentially a **linear classifier**.\n",
        "\n",
        "[Self-link](https://colab.research.google.com/drive/1TJEfTkfuXscEndBe0Yb95x-BEDbLejYq) on this CoLab."
      ]
    },
    {
      "cell_type": "markdown",
      "metadata": {
        "id": "QTpcHqS_uqpy",
        "colab_type": "text"
      },
      "source": [
        "## Example 1. Scikit-learn"
      ]
    },
    {
      "cell_type": "code",
      "metadata": {
        "id": "ouw1irivneMp",
        "colab_type": "code",
        "outputId": "3d425c24-9727-48cf-fbc7-2188c231b5e2",
        "colab": {
          "base_uri": "https://localhost:8080/",
          "height": 219
        }
      },
      "source": [
        "import matplotlib.pyplot as plt\n",
        "import numpy as np\n",
        "\n",
        "from sklearn.linear_model import LogisticRegression\n",
        "from sklearn.metrics import classification_report, confusion_matrix\n",
        "\n",
        "x = np.arange(10).reshape(-1, 1)\n",
        "y = np.array([0, 0, 0, 0, 1, 1, 1, 1, 1, 1])\n",
        "\n",
        "print('x =', x)\n",
        "print('y =', y)"
      ],
      "execution_count": 1,
      "outputs": [
        {
          "output_type": "stream",
          "text": [
            "x = [[0]\n",
            " [1]\n",
            " [2]\n",
            " [3]\n",
            " [4]\n",
            " [5]\n",
            " [6]\n",
            " [7]\n",
            " [8]\n",
            " [9]]\n",
            "y = [0 0 0 0 1 1 1 1 1 1]\n"
          ],
          "name": "stdout"
        }
      ]
    },
    {
      "cell_type": "code",
      "metadata": {
        "id": "83VV7SWLvScB",
        "colab_type": "code",
        "outputId": "973c2ecb-e026-48f3-d9d9-f3091931c4d6",
        "colab": {
          "base_uri": "https://localhost:8080/",
          "height": 109
        }
      },
      "source": [
        "# Create model\n",
        "model = LogisticRegression(solver='liblinear', random_state=0)\n",
        "# Train model\n",
        "model.fit(x, y)"
      ],
      "execution_count": 2,
      "outputs": [
        {
          "output_type": "execute_result",
          "data": {
            "text/plain": [
              "LogisticRegression(C=1.0, class_weight=None, dual=False, fit_intercept=True,\n",
              "                   intercept_scaling=1, l1_ratio=None, max_iter=100,\n",
              "                   multi_class='auto', n_jobs=None, penalty='l2',\n",
              "                   random_state=0, solver='liblinear', tol=0.0001, verbose=0,\n",
              "                   warm_start=False)"
            ]
          },
          "metadata": {
            "tags": []
          },
          "execution_count": 2
        }
      ]
    },
    {
      "cell_type": "code",
      "metadata": {
        "id": "kn5Zdh2EvdAq",
        "colab_type": "code",
        "outputId": "1c4e4b82-9299-4819-aef2-5d6b7664b688",
        "colab": {
          "base_uri": "https://localhost:8080/",
          "height": 72
        }
      },
      "source": [
        "# You can quickly get the attributes of your model\n",
        "print(model.classes_)\n",
        "# Value of the slope 𝑏₁ and the intercept 𝑏₀ of the linear function 𝑓\n",
        "print(model.intercept_)\n",
        "print(model.coef_)"
      ],
      "execution_count": 3,
      "outputs": [
        {
          "output_type": "stream",
          "text": [
            "[0 1]\n",
            "[-1.04608067]\n",
            "[[0.51491375]]\n"
          ],
          "name": "stdout"
        }
      ]
    },
    {
      "cell_type": "code",
      "metadata": {
        "id": "JiUlzX5qwsaZ",
        "colab_type": "code",
        "outputId": "4ea61bf8-3456-43a2-9f20-413a62b59ad4",
        "colab": {
          "base_uri": "https://localhost:8080/",
          "height": 274
        }
      },
      "source": [
        "# Evaluate the Model\n",
        "# Return probability matrix that the predicted output is equal to 0 or 1\n",
        "print(model.predict_proba(x))\n",
        "# Get the actual predictions\n",
        "print(model.predict(x))\n",
        "# Get accuracy of the model\n",
        "print(model.score(x, y))\n",
        "# Get confusion matrix\n",
        "print(confusion_matrix(y, model.predict(x)))"
      ],
      "execution_count": 4,
      "outputs": [
        {
          "output_type": "stream",
          "text": [
            "[[0.74002157 0.25997843]\n",
            " [0.62975524 0.37024476]\n",
            " [0.5040632  0.4959368 ]\n",
            " [0.37785549 0.62214451]\n",
            " [0.26628093 0.73371907]\n",
            " [0.17821501 0.82178499]\n",
            " [0.11472079 0.88527921]\n",
            " [0.07186982 0.92813018]\n",
            " [0.04422513 0.95577487]\n",
            " [0.02690569 0.97309431]]\n",
            "[0 0 0 1 1 1 1 1 1 1]\n",
            "0.9\n",
            "[[3 1]\n",
            " [0 6]]\n"
          ],
          "name": "stdout"
        }
      ]
    },
    {
      "cell_type": "code",
      "metadata": {
        "id": "rJB996m0xpvR",
        "colab_type": "code",
        "outputId": "392a5385-f2d2-4a6a-cc0c-859e3933de6b",
        "colab": {
          "base_uri": "https://localhost:8080/",
          "height": 320
        }
      },
      "source": [
        "# Visualize the confusion matrix\n",
        "cm = confusion_matrix(y, model.predict(x))\n",
        "\n",
        "fig, ax = plt.subplots(figsize=(5, 5))\n",
        "font_size = 32\n",
        "ax.imshow(cm)\n",
        "ax.grid(False)\n",
        "ax.xaxis.set(ticks=(0, 1), ticklabels=('Predicted 0s', 'Predicted 1s'))\n",
        "ax.yaxis.set(ticks=(0, 1), ticklabels=('Actual 0s', 'Actual 1s'))\n",
        "ax.set_ylim(1.5, -0.5)\n",
        "for i in range(2):\n",
        "    for j in range(2):\n",
        "        ax.text(j, i, cm[i, j], ha='center', va='center',\n",
        "                color='red', fontsize=font_size)\n",
        "plt.show()"
      ],
      "execution_count": 5,
      "outputs": [
        {
          "output_type": "display_data",
          "data": {
            "image/png": "[encoded data removed]",
            "text/plain": [
              "<Figure size 360x360 with 1 Axes>"
            ]
          },
          "metadata": {
            "tags": []
          }
        }
      ]
    },
    {
      "cell_type": "code",
      "metadata": {
        "id": "GmlPG47p0SJ6",
        "colab_type": "code",
        "outputId": "1d079481-5389-42b5-b716-df870bc8a3a0",
        "colab": {
          "base_uri": "https://localhost:8080/",
          "height": 182
        }
      },
      "source": [
        "# Get a more comprehensive report on the classification\n",
        "print(classification_report(y, model.predict(x)))"
      ],
      "execution_count": 6,
      "outputs": [
        {
          "output_type": "stream",
          "text": [
            "              precision    recall  f1-score   support\n",
            "\n",
            "           0       1.00      0.75      0.86         4\n",
            "           1       0.86      1.00      0.92         6\n",
            "\n",
            "    accuracy                           0.90        10\n",
            "   macro avg       0.93      0.88      0.89        10\n",
            "weighted avg       0.91      0.90      0.90        10\n",
            "\n"
          ],
          "name": "stdout"
        }
      ]
    },
    {
      "cell_type": "code",
      "metadata": {
        "id": "ouvBsXGN1GTq",
        "colab_type": "code",
        "outputId": "a7bb2c17-ad9d-45ab-f0be-a141cda09ce4",
        "colab": {
          "base_uri": "https://localhost:8080/",
          "height": 109
        }
      },
      "source": [
        "# Improve the Model\n",
        "model = LogisticRegression(solver='liblinear', C=10.0, random_state=0)\n",
        "model.fit(x, y)"
      ],
      "execution_count": 7,
      "outputs": [
        {
          "output_type": "execute_result",
          "data": {
            "text/plain": [
              "LogisticRegression(C=10.0, class_weight=None, dual=False, fit_intercept=True,\n",
              "                   intercept_scaling=1, l1_ratio=None, max_iter=100,\n",
              "                   multi_class='auto', n_jobs=None, penalty='l2',\n",
              "                   random_state=0, solver='liblinear', tol=0.0001, verbose=0,\n",
              "                   warm_start=False)"
            ]
          },
          "metadata": {
            "tags": []
          },
          "execution_count": 7
        }
      ]
    },
    {
      "cell_type": "code",
      "metadata": {
        "id": "Bf9jV0L909BI",
        "colab_type": "code",
        "outputId": "da889cfe-cbe4-4535-f5a7-e03133d4f9c4",
        "colab": {
          "base_uri": "https://localhost:8080/",
          "height": 798
        }
      },
      "source": [
        "# Check it\n",
        "print(model.intercept_)\n",
        "print(model.coef_)\n",
        "print(model.predict_proba(x))\n",
        "print(model.predict(x))\n",
        "print()\n",
        "print(model.score(x, y))\n",
        "print(confusion_matrix(y, model.predict(x)))\n",
        "print(classification_report(y, model.predict(x)))\n",
        "\n",
        "# Visualize the confusion matrix\n",
        "cm = confusion_matrix(y, model.predict(x))\n",
        "\n",
        "fig, ax = plt.subplots(figsize=(5, 5))\n",
        "font_size = 32\n",
        "ax.imshow(cm)\n",
        "ax.grid(False)\n",
        "ax.xaxis.set(ticks=(0, 1), ticklabels=('Predicted 0s', 'Predicted 1s'))\n",
        "ax.yaxis.set(ticks=(0, 1), ticklabels=('Actual 0s', 'Actual 1s'))\n",
        "ax.set_ylim(1.5, -0.5)\n",
        "for i in range(2):\n",
        "    for j in range(2):\n",
        "        ax.text(j, i, cm[i, j], ha='center', va='center',\n",
        "                color='red', fontsize=font_size)\n",
        "plt.show()"
      ],
      "execution_count": 8,
      "outputs": [
        {
          "output_type": "stream",
          "text": [
            "[-3.51335372]\n",
            "[[1.12066084]]\n",
            "[[0.97106534 0.02893466]\n",
            " [0.9162684  0.0837316 ]\n",
            " [0.7810904  0.2189096 ]\n",
            " [0.53777071 0.46222929]\n",
            " [0.27502212 0.72497788]\n",
            " [0.11007743 0.88992257]\n",
            " [0.03876835 0.96123165]\n",
            " [0.01298011 0.98701989]\n",
            " [0.0042697  0.9957303 ]\n",
            " [0.00139621 0.99860379]]\n",
            "[0 0 0 0 1 1 1 1 1 1]\n",
            "\n",
            "1.0\n",
            "[[4 0]\n",
            " [0 6]]\n",
            "              precision    recall  f1-score   support\n",
            "\n",
            "           0       1.00      1.00      1.00         4\n",
            "           1       1.00      1.00      1.00         6\n",
            "\n",
            "    accuracy                           1.00        10\n",
            "   macro avg       1.00      1.00      1.00        10\n",
            "weighted avg       1.00      1.00      1.00        10\n",
            "\n"
          ],
          "name": "stdout"
        },
        {
          "output_type": "display_data",
          "data": {
            "image/png": "[encoded data removed]",
            "text/plain": [
              "<Figure size 360x360 with 1 Axes>"
            ]
          },
          "metadata": {
            "tags": []
          }
        }
      ]
    },
    {
      "cell_type": "markdown",
      "metadata": {
        "id": "gpLyMyF72sgc",
        "colab_type": "text"
      },
      "source": [
        "## Example 2. Scikit-learn"
      ]
    },
    {
      "cell_type": "code",
      "metadata": {
        "id": "XFv1ET7G2BaU",
        "colab_type": "code",
        "colab": {}
      },
      "source": [
        "# Step 1: Import packages, functions, and classes\n",
        "import numpy as np\n",
        "from sklearn.linear_model import LogisticRegression\n",
        "from sklearn.metrics import classification_report, confusion_matrix\n",
        "\n",
        "# Step 2: Get data\n",
        "x = np.arange(10).reshape(-1, 1)\n",
        "y = np.array([0, 1, 0, 0, 1, 1, 1, 1, 1, 1])\n",
        "\n",
        "# Step 3: Create a model and train it\n",
        "model = LogisticRegression(solver='liblinear', C=10.0, random_state=0)\n",
        "model.fit(x, y)\n",
        "\n",
        "# Step 4: Evaluate the model\n",
        "p_pred = model.predict_proba(x)\n",
        "y_pred = model.predict(x)\n",
        "score_ = model.score(x, y)\n",
        "conf_m = confusion_matrix(y, y_pred)\n",
        "report = classification_report(y, y_pred)"
      ],
      "execution_count": 0,
      "outputs": []
    },
    {
      "cell_type": "code",
      "metadata": {
        "id": "NSevCBve2_O7",
        "colab_type": "code",
        "outputId": "d6e3009e-6edf-43f2-afff-d2679559465d",
        "colab": {
          "base_uri": "https://localhost:8080/",
          "height": 880
        }
      },
      "source": [
        "# Evaluate results\n",
        "print('x:', x, sep='\\n')\n",
        "print('y:', y, sep='\\n', end='\\n\\n')\n",
        "print('intercept:', model.intercept_)\n",
        "print('coef:', model.coef_, end='\\n\\n')\n",
        "print('p_pred:', p_pred, sep='\\n', end='\\n\\n')\n",
        "print('y_pred:', y_pred, end='\\n\\n')\n",
        "print('score_:', score_, end='\\n\\n')\n",
        "print('conf_m:', conf_m, sep='\\n', end='\\n\\n')\n",
        "print('report:', report, sep='\\n')"
      ],
      "execution_count": 10,
      "outputs": [
        {
          "output_type": "stream",
          "text": [
            "x:\n",
            "[[0]\n",
            " [1]\n",
            " [2]\n",
            " [3]\n",
            " [4]\n",
            " [5]\n",
            " [6]\n",
            " [7]\n",
            " [8]\n",
            " [9]]\n",
            "y:\n",
            "[0 1 0 0 1 1 1 1 1 1]\n",
            "\n",
            "intercept: [-1.51632619]\n",
            "coef: [[0.703457]]\n",
            "\n",
            "p_pred:\n",
            "[[0.81999686 0.18000314]\n",
            " [0.69272057 0.30727943]\n",
            " [0.52732579 0.47267421]\n",
            " [0.35570732 0.64429268]\n",
            " [0.21458576 0.78541424]\n",
            " [0.11910229 0.88089771]\n",
            " [0.06271329 0.93728671]\n",
            " [0.03205032 0.96794968]\n",
            " [0.0161218  0.9838782 ]\n",
            " [0.00804372 0.99195628]]\n",
            "\n",
            "y_pred: [0 0 0 1 1 1 1 1 1 1]\n",
            "\n",
            "score_: 0.8\n",
            "\n",
            "conf_m:\n",
            "[[2 1]\n",
            " [1 6]]\n",
            "\n",
            "report:\n",
            "              precision    recall  f1-score   support\n",
            "\n",
            "           0       0.67      0.67      0.67         3\n",
            "           1       0.86      0.86      0.86         7\n",
            "\n",
            "    accuracy                           0.80        10\n",
            "   macro avg       0.76      0.76      0.76        10\n",
            "weighted avg       0.80      0.80      0.80        10\n",
            "\n"
          ],
          "name": "stdout"
        }
      ]
    },
    {
      "cell_type": "markdown",
      "metadata": {
        "id": "MS9ejSZm35Hb",
        "colab_type": "text"
      },
      "source": [
        "## Example 3. StatsModels"
      ]
    },
    {
      "cell_type": "code",
      "metadata": {
        "id": "XXi4Vn523GTz",
        "colab_type": "code",
        "colab": {}
      },
      "source": [
        "import numpy as np\n",
        "import statsmodels.api as sm"
      ],
      "execution_count": 0,
      "outputs": []
    },
    {
      "cell_type": "code",
      "metadata": {
        "id": "9QVFZeIm4kCT",
        "colab_type": "code",
        "outputId": "05c23fd6-3418-4b6c-be1f-0fad3194f356",
        "colab": {
          "base_uri": "https://localhost:8080/",
          "height": 219
        }
      },
      "source": [
        "x = np.arange(10).reshape(-1, 1)\n",
        "y = np.array([0, 1, 0, 0, 1, 1, 1, 1, 1, 1])\n",
        "x = sm.add_constant(x)\n",
        "print(x)\n",
        "print(y)"
      ],
      "execution_count": 12,
      "outputs": [
        {
          "output_type": "stream",
          "text": [
            "[[1. 0.]\n",
            " [1. 1.]\n",
            " [1. 2.]\n",
            " [1. 3.]\n",
            " [1. 4.]\n",
            " [1. 5.]\n",
            " [1. 6.]\n",
            " [1. 7.]\n",
            " [1. 8.]\n",
            " [1. 9.]]\n",
            "[0 1 0 0 1 1 1 1 1 1]\n"
          ],
          "name": "stdout"
        }
      ]
    },
    {
      "cell_type": "code",
      "metadata": {
        "id": "KY4m9oCJ42RV",
        "colab_type": "code",
        "outputId": "c4b995e7-879b-4026-bdf2-442e41f3622e",
        "colab": {
          "base_uri": "https://localhost:8080/",
          "height": 72
        }
      },
      "source": [
        "# Create a model\n",
        "# Your logistic regression model is going to be an instance\n",
        "# of the class `statsmodels.discrete.discrete_model.Logit`\n",
        "model = sm.Logit(y, x)\n",
        "# Train a model\n",
        "# If you want to apply L1 regularization, with model.fit_regularized()\n",
        "result = model.fit(method='newton')"
      ],
      "execution_count": 13,
      "outputs": [
        {
          "output_type": "stream",
          "text": [
            "Optimization terminated successfully.\n",
            "         Current function value: 0.350471\n",
            "         Iterations 7\n"
          ],
          "name": "stdout"
        }
      ]
    },
    {
      "cell_type": "code",
      "metadata": {
        "id": "YxRtAPBQ6D5r",
        "colab_type": "code",
        "outputId": "021efc4f-f1ad-4d8d-d0b4-ea4a5a1523be",
        "colab": {
          "base_uri": "https://localhost:8080/",
          "height": 35
        }
      },
      "source": [
        "# Obtain the values of 𝑏₀ and 𝑏₁ with .params\n",
        "result.params"
      ],
      "execution_count": 14,
      "outputs": [
        {
          "output_type": "execute_result",
          "data": {
            "text/plain": [
              "array([-1.972805  ,  0.82240094])"
            ]
          },
          "metadata": {
            "tags": []
          },
          "execution_count": 14
        }
      ]
    },
    {
      "cell_type": "code",
      "metadata": {
        "id": "jVpKBs-I6PKc",
        "colab_type": "code",
        "outputId": "8111183b-7025-4b0a-d1bd-6eaf35bce182",
        "colab": {
          "base_uri": "https://localhost:8080/",
          "height": 127
        }
      },
      "source": [
        "print(result.predict(x))\n",
        "lst = (result.predict(x) >= 0.5).astype(int)\n",
        "print(lst, end='\\n\\n')\n",
        "print(result.pred_table())"
      ],
      "execution_count": 15,
      "outputs": [
        {
          "output_type": "stream",
          "text": [
            "[0.12208792 0.24041529 0.41872657 0.62114189 0.78864861 0.89465521\n",
            " 0.95080891 0.97777369 0.99011108 0.99563083]\n",
            "[0 0 0 1 1 1 1 1 1 1]\n",
            "\n",
            "[[2. 1.]\n",
            " [1. 6.]]\n"
          ],
          "name": "stdout"
        }
      ]
    },
    {
      "cell_type": "code",
      "metadata": {
        "id": "4NKih_gj6dSl",
        "colab_type": "code",
        "outputId": "d74f7bef-1c3d-4833-d997-97e8aad48124",
        "colab": {
          "base_uri": "https://localhost:8080/",
          "height": 660
        }
      },
      "source": [
        "print(result.summary())\n",
        "print('\\n--- --- --- --- ---\\n')\n",
        "print(result.summary2())"
      ],
      "execution_count": 16,
      "outputs": [
        {
          "output_type": "stream",
          "text": [
            "                           Logit Regression Results                           \n",
            "==============================================================================\n",
            "Dep. Variable:                      y   No. Observations:                   10\n",
            "Model:                          Logit   Df Residuals:                        8\n",
            "Method:                           MLE   Df Model:                            1\n",
            "Date:                Wed, 22 Jan 2020   Pseudo R-squ.:                  0.4263\n",
            "Time:                        11:58:34   Log-Likelihood:                -3.5047\n",
            "converged:                       True   LL-Null:                       -6.1086\n",
            "Covariance Type:            nonrobust   LLR p-value:                   0.02248\n",
            "==============================================================================\n",
            "                 coef    std err          z      P>|z|      [0.025      0.975]\n",
            "------------------------------------------------------------------------------\n",
            "const         -1.9728      1.737     -1.136      0.256      -5.377       1.431\n",
            "x1             0.8224      0.528      1.557      0.119      -0.213       1.858\n",
            "==============================================================================\n",
            "\n",
            "--- --- --- --- ---\n",
            "\n",
            "                        Results: Logit\n",
            "===============================================================\n",
            "Model:              Logit            Pseudo R-squared: 0.426   \n",
            "Dependent Variable: y                AIC:              11.0094 \n",
            "Date:               2020-01-22 11:58 BIC:              11.6146 \n",
            "No. Observations:   10               Log-Likelihood:   -3.5047 \n",
            "Df Model:           1                LL-Null:          -6.1086 \n",
            "Df Residuals:       8                LLR p-value:      0.022485\n",
            "Converged:          1.0000           Scale:            1.0000  \n",
            "No. Iterations:     7.0000                                     \n",
            "-----------------------------------------------------------------\n",
            "          Coef.    Std.Err.      z      P>|z|     [0.025   0.975]\n",
            "-----------------------------------------------------------------\n",
            "const    -1.9728     1.7366   -1.1360   0.2560   -5.3765   1.4309\n",
            "x1        0.8224     0.5281    1.5572   0.1194   -0.2127   1.8575\n",
            "===============================================================\n",
            "\n"
          ],
          "name": "stdout"
        }
      ]
    },
    {
      "cell_type": "markdown",
      "metadata": {
        "id": "3YKIFry676c1",
        "colab_type": "text"
      },
      "source": [
        "## Handwriting Recognition"
      ]
    },
    {
      "cell_type": "code",
      "metadata": {
        "id": "IPKZ2sRO7ZWs",
        "colab_type": "code",
        "colab": {}
      },
      "source": [
        "import matplotlib.pyplot as plt\n",
        "import numpy as np\n",
        "from sklearn.datasets import load_digits\n",
        "from sklearn.linear_model import LogisticRegression\n",
        "from sklearn.metrics import classification_report, confusion_matrix\n",
        "from sklearn.model_selection import train_test_split\n",
        "from sklearn.preprocessing import StandardScaler"
      ],
      "execution_count": 0,
      "outputs": []
    },
    {
      "cell_type": "code",
      "metadata": {
        "id": "gqJHVW-38mI1",
        "colab_type": "code",
        "outputId": "b5e20972-a579-4d77-f075-50c755ea94ca",
        "colab": {
          "base_uri": "https://localhost:8080/",
          "height": 201
        }
      },
      "source": [
        "x, y = load_digits(return_X_y=True)\n",
        "print('x:\\n', x)\n",
        "print('y:\\n', y)"
      ],
      "execution_count": 18,
      "outputs": [
        {
          "output_type": "stream",
          "text": [
            "x:\n",
            " [[ 0.  0.  5. ...  0.  0.  0.]\n",
            " [ 0.  0.  0. ... 10.  0.  0.]\n",
            " [ 0.  0.  0. ... 16.  9.  0.]\n",
            " ...\n",
            " [ 0.  0.  1. ...  6.  0.  0.]\n",
            " [ 0.  0.  2. ... 12.  0.  0.]\n",
            " [ 0.  0. 10. ... 12.  1.  0.]]\n",
            "y:\n",
            " [0 1 2 ... 8 9 8]\n"
          ],
          "name": "stdout"
        }
      ]
    },
    {
      "cell_type": "code",
      "metadata": {
        "id": "VPo0vyBU8rnV",
        "colab_type": "code",
        "colab": {}
      },
      "source": [
        "# Split Data\n",
        "x_train, x_test, y_train, y_test = \\\n",
        "    train_test_split(x, y, test_size=0.2, random_state=0)"
      ],
      "execution_count": 0,
      "outputs": []
    },
    {
      "cell_type": "code",
      "metadata": {
        "id": "oGQcjY-e9mFE",
        "colab_type": "code",
        "colab": {}
      },
      "source": [
        "# Standardize the inputs\n",
        "scaler = StandardScaler()\n",
        "x_train = scaler.fit_transform(x_train)\n",
        "x_test = scaler.transform(x_test)"
      ],
      "execution_count": 0,
      "outputs": []
    },
    {
      "cell_type": "code",
      "metadata": {
        "id": "J3CpaGqB_MUe",
        "colab_type": "code",
        "outputId": "f8c115d6-05cd-41a7-ad63-b0fe8d300ee0",
        "colab": {
          "base_uri": "https://localhost:8080/",
          "height": 90
        }
      },
      "source": [
        "# Create the model and train it\n",
        "model = LogisticRegression(\n",
        "    solver='liblinear', C=0.05, multi_class='ovr', random_state=0)\n",
        "model.fit(x_train, y_train)"
      ],
      "execution_count": 21,
      "outputs": [
        {
          "output_type": "execute_result",
          "data": {
            "text/plain": [
              "LogisticRegression(C=0.05, class_weight=None, dual=False, fit_intercept=True,\n",
              "                   intercept_scaling=1, l1_ratio=None, max_iter=100,\n",
              "                   multi_class='ovr', n_jobs=None, penalty='l2', random_state=0,\n",
              "                   solver='liblinear', tol=0.0001, verbose=0, warm_start=False)"
            ]
          },
          "metadata": {
            "tags": []
          },
          "execution_count": 21
        }
      ]
    },
    {
      "cell_type": "code",
      "metadata": {
        "id": "BpUSrQEf_k8v",
        "colab_type": "code",
        "colab": {}
      },
      "source": [
        "# Make a prediction\n",
        "y_pred = model.predict(x_test)"
      ],
      "execution_count": 0,
      "outputs": []
    },
    {
      "cell_type": "code",
      "metadata": {
        "id": "XCrUb4i7A4Qd",
        "colab_type": "code",
        "outputId": "79f19256-1524-45ba-ba03-644e541c12ba",
        "colab": {
          "base_uri": "https://localhost:8080/",
          "height": 54
        }
      },
      "source": [
        "# Evaluate the Model\n",
        "print(model.score(x_train, y_train))\n",
        "print(model.score(x_test, y_test))"
      ],
      "execution_count": 23,
      "outputs": [
        {
          "output_type": "stream",
          "text": [
            "0.964509394572025\n",
            "0.9416666666666667\n"
          ],
          "name": "stdout"
        }
      ]
    },
    {
      "cell_type": "code",
      "metadata": {
        "id": "pLnIv05NBuDO",
        "colab_type": "code",
        "outputId": "b0610cf5-7191-49ba-8fbb-8a35c6ff71e7",
        "colab": {
          "base_uri": "https://localhost:8080/",
          "height": 201
        }
      },
      "source": [
        "# Get a confusion matrix\n",
        "print(confusion_matrix(y_test, y_pred))"
      ],
      "execution_count": 24,
      "outputs": [
        {
          "output_type": "stream",
          "text": [
            "[[27  0  0  0  0  0  0  0  0  0]\n",
            " [ 0 32  0  0  0  0  1  0  1  1]\n",
            " [ 1  1 33  1  0  0  0  0  0  0]\n",
            " [ 0  0  1 28  0  0  0  0  0  0]\n",
            " [ 0  0  0  0 29  0  0  1  0  0]\n",
            " [ 0  0  0  0  0 39  0  0  0  1]\n",
            " [ 0  1  0  0  0  0 43  0  0  0]\n",
            " [ 0  0  0  0  0  0  0 39  0  0]\n",
            " [ 0  2  1  2  0  0  0  1 33  0]\n",
            " [ 0  0  0  1  0  1  0  2  1 36]]\n"
          ],
          "name": "stdout"
        }
      ]
    },
    {
      "cell_type": "code",
      "metadata": {
        "id": "pyT5utTGCCwm",
        "colab_type": "code",
        "outputId": "5c08cd02-89a3-4030-c71b-fd443fc2bbe7",
        "colab": {
          "base_uri": "https://localhost:8080/",
          "height": 505
        }
      },
      "source": [
        "# Visualize the confusion matrix\n",
        "cm = confusion_matrix(y_test, y_pred)\n",
        "\n",
        "fig, ax = plt.subplots(figsize=(8, 8))\n",
        "font_size = 18\n",
        "ax.imshow(cm)\n",
        "ax.grid(False)\n",
        "ax.set_xlabel('Predicted outputs', fontsize=font_size, color='black')\n",
        "ax.set_ylabel('Actual outputs', fontsize=font_size, color='black')\n",
        "ax.xaxis.set(ticks=range(10))\n",
        "ax.yaxis.set(ticks=range(10))\n",
        "ax.set_ylim(9.5, -0.5)\n",
        "for i in range(10):\n",
        "    for j in range(10):\n",
        "        ax.text(j, i, cm[i, j], ha='center', va='center',\n",
        "                color='white', fontsize=font_size)\n",
        "plt.show()"
      ],
      "execution_count": 25,
      "outputs": [
        {
          "output_type": "display_data",
          "data": {
            "image/png": "[encoded data removed]",
            "text/plain": [
              "<Figure size 576x576 with 1 Axes>"
            ]
          },
          "metadata": {
            "tags": []
          }
        }
      ]
    },
    {
      "cell_type": "code",
      "metadata": {
        "id": "R3w5uMV7Cs5m",
        "colab_type": "code",
        "outputId": "4afe9d72-2d7f-4724-f788-ab6ef52a9917",
        "colab": {
          "base_uri": "https://localhost:8080/",
          "height": 329
        }
      },
      "source": [
        "# Get a report on classification as a string or dictionary\n",
        "print(classification_report(y_test, y_pred))"
      ],
      "execution_count": 26,
      "outputs": [
        {
          "output_type": "stream",
          "text": [
            "              precision    recall  f1-score   support\n",
            "\n",
            "           0       0.96      1.00      0.98        27\n",
            "           1       0.89      0.91      0.90        35\n",
            "           2       0.94      0.92      0.93        36\n",
            "           3       0.88      0.97      0.92        29\n",
            "           4       1.00      0.97      0.98        30\n",
            "           5       0.97      0.97      0.97        40\n",
            "           6       0.98      0.98      0.98        44\n",
            "           7       0.91      1.00      0.95        39\n",
            "           8       0.94      0.85      0.89        39\n",
            "           9       0.95      0.88      0.91        41\n",
            "\n",
            "    accuracy                           0.94       360\n",
            "   macro avg       0.94      0.94      0.94       360\n",
            "weighted avg       0.94      0.94      0.94       360\n",
            "\n"
          ],
          "name": "stdout"
        }
      ]
    },
    {
      "cell_type": "code",
      "metadata": {
        "id": "dK0acqX3Fkw3",
        "colab_type": "code",
        "colab": {}
      },
      "source": [
        ""
      ],
      "execution_count": 0,
      "outputs": []
    }
  ]
}